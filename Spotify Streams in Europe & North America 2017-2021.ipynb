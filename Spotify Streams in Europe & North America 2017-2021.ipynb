{
 "cells": [
  {
   "cell_type": "markdown",
   "id": "2928f667",
   "metadata": {},
   "source": [
    "# Spotify Streams in Europe & North America 2017-2021\n",
    "\n",
    "\n",
    "\n",
    "<br><br>\n",
    "\n",
    "## Index\n",
    "\n",
    "- [Visualisation](#visualisation)\n",
    "- [Data Preparation](#data-preparation)\n",
    "\n",
    "\n",
    "<br><br><br>\n",
    "\n",
    "<a name=\"visualisation\"></a>\n",
    "\n",
    "\n",
    "\n",
    "## Visualisation\n",
    "\n",
    "Click on the bottom right of the visualisation to go full-screen. \n",
    "\n",
    "<br><br><br>"
   ]
  },
  {
   "cell_type": "markdown",
   "id": "5f499310",
   "metadata": {},
   "source": [
    "<div class='tableauPlaceholder' id='viz1644861167886' style='position: relative'><object class='tableauViz'  style='display:none;'><param name='host_url' value='https%3A%2F%2Fpublic.tableau.com%2F' /> <param name='embed_code_version' value='3' /> <param name='site_root' value='' /><param name='name' value='SpotifyStreamsinEuropeNorthAmerica&#47;SpotifyStreamsEuropeandUS' /><param name='tabs' value='no' /><param name='toolbar' value='yes' /><param name='animate_transition' value='yes' /><param name='display_static_image' value='yes' /><param name='display_spinner' value='yes' /><param name='display_overlay' value='yes' /><param name='display_count' value='yes' /><param name='language' value='en-GB' /></object></div>                <script type='text/javascript'>                    var divElement = document.getElementById('viz1644861167886');                    var vizElement = divElement.getElementsByTagName('object')[0];                    if ( divElement.offsetWidth > 800 ) { vizElement.style.minWidth='800px';vizElement.style.maxWidth='1700px';vizElement.style.width='100%';vizElement.style.minHeight='327px';vizElement.style.maxHeight='1027px';vizElement.style.height=(divElement.offsetWidth*0.75)+'px';} else if ( divElement.offsetWidth > 500 ) { vizElement.style.minWidth='800px';vizElement.style.maxWidth='1700px';vizElement.style.width='100%';vizElement.style.minHeight='327px';vizElement.style.maxHeight='1027px';vizElement.style.height=(divElement.offsetWidth*0.75)+'px';} else { vizElement.style.width='100%';vizElement.style.height='1877px';}                     var scriptElement = document.createElement('script');                    scriptElement.src = 'https://public.tableau.com/javascripts/api/viz_v1.js';                    vizElement.parentNode.insertBefore(scriptElement, vizElement);                </script>"
   ]
  },
  {
   "cell_type": "markdown",
   "id": "4868f1c6",
   "metadata": {},
   "source": [
    "<br><br><br>\n",
    "\n",
    "<a name=\"data-preparation\"></a>\n",
    "\n",
    "\n",
    "## Data Preparation\n",
    "\n",
    "\n",
    "The original Spotify Charts dataset has a size of over 3GB and would be very difficult to work with directly in Tableau, leading to a significant worse user experience. The rest of this notebook walks through how the dataset was prepared for the visualisation above. \n",
    "\n",
    "The Spotify dataset can be downloaded from Kaggle [here](https://www.kaggle.com/dhruvildave/spotify-charts), while the population dataset comes from Eurostat and can be found [here](https://ec.europa.eu/eurostat/web/population-demography/demography-population-stock-balance/database). "
   ]
  },
  {
   "cell_type": "code",
   "execution_count": 1,
   "id": "63c6135e",
   "metadata": {},
   "outputs": [],
   "source": [
    "from pyspark import SparkContext, SparkConf\n",
    "from pyspark.sql import SparkSession\n",
    "from pyspark.sql.types import StructType, StructField, IntegerType, DateType, StringType, FloatType\n",
    "from pyspark.sql.functions import col, date_format, from_unixtime, unix_timestamp\n",
    "\n",
    "import os"
   ]
  },
  {
   "cell_type": "code",
   "execution_count": 32,
   "id": "4e933c68",
   "metadata": {},
   "outputs": [
    {
     "name": "stdout",
     "output_type": "stream",
     "text": [
      "SparkContext already running?\n"
     ]
    },
    {
     "data": {
      "text/html": [
       "\n",
       "            <div>\n",
       "                <p><b>SparkSession - in-memory</b></p>\n",
       "                \n",
       "        <div>\n",
       "            <p><b>SparkContext</b></p>\n",
       "\n",
       "            <p><a href=\"http://192.168.0.10:4040\">Spark UI</a></p>\n",
       "\n",
       "            <dl>\n",
       "              <dt>Version</dt>\n",
       "                <dd><code>v3.2.0</code></dd>\n",
       "              <dt>Master</dt>\n",
       "                <dd><code>local[*]</code></dd>\n",
       "              <dt>AppName</dt>\n",
       "                <dd><code>Prepare Spotify Data</code></dd>\n",
       "            </dl>\n",
       "        </div>\n",
       "        \n",
       "            </div>\n",
       "        "
      ],
      "text/plain": [
       "<pyspark.sql.session.SparkSession at 0x7fe2d881d430>"
      ]
     },
     "execution_count": 32,
     "metadata": {},
     "output_type": "execute_result"
    }
   ],
   "source": [
    "# Input and output data dirs\n",
    "raw_data = \"raw_data/charts.csv\"\n",
    "\n",
    "# Initiate SparkContext and SparkSession\n",
    "try:\n",
    "    conf = SparkConf().setMaster(\"local[*]\")\n",
    "    sc = SparkContext(appName=\"Prepare Spotify Data\")\n",
    "    spark = SparkSession.builder.master(\"local\").getOrCreate()\n",
    "    spark.sparkContext.setLogLevel(\"ERROR\")\n",
    "except:\n",
    "    print(\"SparkContext already running?\")\n",
    "\n",
    "spark"
   ]
  },
  {
   "cell_type": "markdown",
   "id": "699b8f77",
   "metadata": {},
   "source": [
    "Start by loading the data and specifying data type for each column. "
   ]
  },
  {
   "cell_type": "code",
   "execution_count": 14,
   "id": "657f041b",
   "metadata": {},
   "outputs": [
    {
     "name": "stdout",
     "output_type": "stream",
     "text": [
      "+--------------------+----+----------+--------------------+--------------------+---------+------+-------------+-------+\n",
      "|               Title|Rank|      Date|              Artist|                 Url|   Region| Chart|        Trend|Streams|\n",
      "+--------------------+----+----------+--------------------+--------------------+---------+------+-------------+-------+\n",
      "|Chantaje (feat. M...|   1|2017-01-01|             Shakira|https://open.spot...|Argentina|top200|SAME_POSITION| 253019|\n",
      "|Vente Pa' Ca (fea...|   2|2017-01-01|        Ricky Martin|https://open.spot...|Argentina|top200|      MOVE_UP| 223988|\n",
      "|Reggaetón Lento (...|   3|2017-01-01|                CNCO|https://open.spot...|Argentina|top200|    MOVE_DOWN| 210943|\n",
      "|              Safari|   4|2017-01-01|J Balvin, Pharrel...|https://open.spot...|Argentina|top200|SAME_POSITION| 173865|\n",
      "|         Shaky Shaky|   5|2017-01-01|        Daddy Yankee|https://open.spot...|Argentina|top200|      MOVE_UP| 153956|\n",
      "+--------------------+----+----------+--------------------+--------------------+---------+------+-------------+-------+\n",
      "only showing top 5 rows\n",
      "\n",
      "root\n",
      " |-- Title: string (nullable = true)\n",
      " |-- Rank: integer (nullable = true)\n",
      " |-- Date: date (nullable = true)\n",
      " |-- Artist: string (nullable = true)\n",
      " |-- Url: string (nullable = true)\n",
      " |-- Region: string (nullable = true)\n",
      " |-- Chart: string (nullable = true)\n",
      " |-- Trend: string (nullable = true)\n",
      " |-- Streams: integer (nullable = true)\n",
      "\n"
     ]
    }
   ],
   "source": [
    "# Create schema to specify data type for each column\n",
    "schema = StructType([\n",
    "    StructField(\"Title\", StringType(), True),\n",
    "    StructField(\"Rank\", IntegerType(), True),\n",
    "    StructField(\"Date\", DateType(), True),\n",
    "    StructField(\"Artist\", StringType(), True),\n",
    "    StructField(\"Url\", StringType(), True),\n",
    "    StructField(\"Region\", StringType(), True),\n",
    "    StructField(\"Chart\", StringType(), True),\n",
    "    StructField(\"Trend\", StringType(), True),\n",
    "    StructField(\"Streams\", IntegerType(), True)\n",
    "])\n",
    "\n",
    "\n",
    "data = spark.read.csv(raw_data, \n",
    "                      header=True,\n",
    "                      schema=schema)\n",
    "\n",
    "data.show(5)\n",
    "data.printSchema()"
   ]
  },
  {
   "cell_type": "markdown",
   "id": "cd2caa6b",
   "metadata": {},
   "source": [
    "Create a new column containing year and month only and remove columns we don't need. "
   ]
  },
  {
   "cell_type": "code",
   "execution_count": 15,
   "id": "79b80e16",
   "metadata": {},
   "outputs": [],
   "source": [
    "# Create two new date columns for year and month\n",
    "data = data.withColumn(\"YearMonth\", date_format(data.Date, \"yyyy-MM\"))\n",
    "data = data.withColumn(\"Year\", date_format(data.Date, \"yyyy\"))"
   ]
  },
  {
   "cell_type": "code",
   "execution_count": 16,
   "id": "2a101df9",
   "metadata": {},
   "outputs": [
    {
     "name": "stderr",
     "output_type": "stream",
     "text": [
      "[Stage 16:===================================================>    (24 + 2) / 26]\r"
     ]
    },
    {
     "name": "stdout",
     "output_type": "stream",
     "text": [
      "Number of rows in the dataset: 26173514\n",
      "\n",
      "+---------+-------+---------+----+\n",
      "|   Region|Streams|YearMonth|Year|\n",
      "+---------+-------+---------+----+\n",
      "|Argentina| 253019|  2017-01|2017|\n",
      "|Argentina| 223988|  2017-01|2017|\n",
      "|Argentina| 210943|  2017-01|2017|\n",
      "|Argentina| 173865|  2017-01|2017|\n",
      "|Argentina| 153956|  2017-01|2017|\n",
      "+---------+-------+---------+----+\n",
      "only showing top 5 rows\n",
      "\n"
     ]
    },
    {
     "name": "stderr",
     "output_type": "stream",
     "text": [
      "\r",
      "                                                                                \r"
     ]
    }
   ],
   "source": [
    "# Drop columns we're not interested in\n",
    "for col in ['Date', 'Title', 'Rank', 'Artist', 'Url', 'Chart', 'Trend']:\n",
    "    data = data.drop(col)\n",
    "\n",
    "print(f\"Number of rows in the dataset: {data.count()}\\n\")    \n",
    "data.show(5)"
   ]
  },
  {
   "cell_type": "code",
   "execution_count": 17,
   "id": "4c755d23",
   "metadata": {},
   "outputs": [
    {
     "name": "stderr",
     "output_type": "stream",
     "text": [
      "[Stage 20:=====================================================>  (25 + 1) / 26]\r"
     ]
    },
    {
     "name": "stdout",
     "output_type": "stream",
     "text": [
      "+-------+--------------------+-----------------+---------+------------------+\n",
      "|summary|              Region|          Streams|YearMonth|              Year|\n",
      "+-------+--------------------+-----------------+---------+------------------+\n",
      "|  count|            26173514|         20318183| 26171372|          26171372|\n",
      "|   mean|                null|55266.54339716303|     null|2019.1350362525893|\n",
      "| stddev|                null|209602.0198801989|     null|  1.39037595219041|\n",
      "|    min|               2nyce|             1001|  2017-01|              2017|\n",
      "|    25%|                null|             3546|     null|            2018.0|\n",
      "|    50%|                null|             9565|     null|            2019.0|\n",
      "|    75%|                null|            35407|     null|            2020.0|\n",
      "|    max|https://open.spot...|         19749704|  2021-12|              2021|\n",
      "+-------+--------------------+-----------------+---------+------------------+\n",
      "\n"
     ]
    },
    {
     "name": "stderr",
     "output_type": "stream",
     "text": [
      "\r",
      "                                                                                \r"
     ]
    }
   ],
   "source": [
    "# Display summary statistics\n",
    "data.summary().show()"
   ]
  },
  {
   "cell_type": "markdown",
   "id": "e81c008a",
   "metadata": {},
   "source": [
    "We're left with the columns we need and can make the following observations:\n",
    "\n",
    "- There's a total of 26173514 rows in the dataset. Some of which contains Nulls. \n",
    "- Earliest date is January 2017 while most recent is December 2021. \n",
    "- The `Region` column seem to contain urls. Take a closer look at some of these next up."
   ]
  },
  {
   "cell_type": "code",
   "execution_count": 18,
   "id": "888155c3",
   "metadata": {},
   "outputs": [
    {
     "name": "stdout",
     "output_type": "stream",
     "text": [
      "+--------------------+-------+---------+----+\n",
      "|              Region|Streams|YearMonth|Year|\n",
      "+--------------------+-------+---------+----+\n",
      "|https://open.spot...|   null|  2017-02|2017|\n",
      "|https://open.spot...|   null|  2017-02|2017|\n",
      "|https://open.spot...|   null|  2017-02|2017|\n",
      "|https://open.spot...|   null|  2017-02|2017|\n",
      "|https://open.spot...|   null|  2017-08|2017|\n",
      "|https://open.spot...|   null|  2017-08|2017|\n",
      "|https://open.spot...|   null|  2017-08|2017|\n",
      "|https://open.spot...|   null|  2017-02|2017|\n",
      "|https://open.spot...|   null|  2017-02|2017|\n",
      "|https://open.spot...|   null|  2017-08|2017|\n",
      "+--------------------+-------+---------+----+\n",
      "only showing top 10 rows\n",
      "\n"
     ]
    }
   ],
   "source": [
    "# Display the first 10 rows containing a Url in the Region column\n",
    "data.createOrReplaceTempView(\"data\")\n",
    "spark.sql(\"SELECT * FROM data WHERE Region LIKE '%https://open.spotify%'\").show(10)"
   ]
  },
  {
   "cell_type": "code",
   "execution_count": 19,
   "id": "4586d67a",
   "metadata": {},
   "outputs": [
    {
     "name": "stderr",
     "output_type": "stream",
     "text": [
      "[Stage 24:===================================================>    (24 + 2) / 26]\r"
     ]
    },
    {
     "name": "stdout",
     "output_type": "stream",
     "text": [
      "+-----------------------------------------------------+------+\n",
      "|Region                                               |count |\n",
      "+-----------------------------------------------------+------+\n",
      "|Chile                                                |448526|\n",
      "|Hungary                                              |434873|\n",
      "|https://open.spotify.com/track/72FJjSdfMCXiVcZTgR3Q6G|93    |\n",
      "|Iceland                                              |302192|\n",
      "|United Kingdom                                       |450606|\n",
      "|Finland                                              |449042|\n",
      "|Egypt                                                |180464|\n",
      "|Greece                                               |370802|\n",
      "|Denmark                                              |449295|\n",
      "|France                                               |449265|\n",
      "|Honduras                                             |376614|\n",
      "|Austria                                              |454381|\n",
      "|https://open.spotify.com/track/74ctCiq1T0Lm0HUt5YhZjg|49    |\n",
      "|https://open.spotify.com/track/5buC1VFP7FSaB0YokvP0EJ|470   |\n",
      "| Liro Shaq\"                                          |438   |\n",
      "|Vishal Dadlani, Shekhar Ravjiani, Vishal-Shekhar     |176   |\n",
      "|https://open.spotify.com/track/0dZsHzJqJX2NQTm8Xucrr3|75    |\n",
      "|New Zealand                                          |449140|\n",
      "|India                                                |252794|\n",
      "|Argentina                                            |455183|\n",
      "+-----------------------------------------------------+------+\n",
      "only showing top 20 rows\n",
      "\n"
     ]
    },
    {
     "name": "stderr",
     "output_type": "stream",
     "text": [
      "\r",
      "                                                                                \r"
     ]
    }
   ],
   "source": [
    "data.cube(\"Region\").count().show(20, truncate=False)"
   ]
  },
  {
   "cell_type": "markdown",
   "id": "ce9806d9",
   "metadata": {},
   "source": [
    "Unfortunately, there seem to be quite a lot of them. Fortunately, their total counts are very small in comparison and they all have `Null`streams. We can safely delete these rows without affecting the total streams. "
   ]
  },
  {
   "cell_type": "code",
   "execution_count": 20,
   "id": "9edbe86f",
   "metadata": {},
   "outputs": [],
   "source": [
    "# Drop rows with Nulls\n",
    "data = data.dropna(how=\"any\")"
   ]
  },
  {
   "cell_type": "code",
   "execution_count": 21,
   "id": "067732c0",
   "metadata": {},
   "outputs": [
    {
     "name": "stderr",
     "output_type": "stream",
     "text": [
      "[Stage 30:>                                                         (0 + 1) / 1]\r"
     ]
    },
    {
     "name": "stdout",
     "output_type": "stream",
     "text": [
      "+------+-------+---------+----+\n",
      "|Region|Streams|YearMonth|Year|\n",
      "+------+-------+---------+----+\n",
      "+------+-------+---------+----+\n",
      "\n"
     ]
    },
    {
     "name": "stderr",
     "output_type": "stream",
     "text": [
      "\r",
      "                                                                                \r"
     ]
    }
   ],
   "source": [
    "# Check that there are no Nulls left\n",
    "data.filter(\" is NULL OR \".join(data.columns) + \" is NULL\").show()"
   ]
  },
  {
   "cell_type": "code",
   "execution_count": 22,
   "id": "122206cc",
   "metadata": {},
   "outputs": [
    {
     "name": "stderr",
     "output_type": "stream",
     "text": [
      "[Stage 31:=====================================================>  (25 + 1) / 26]\r"
     ]
    },
    {
     "name": "stdout",
     "output_type": "stream",
     "text": [
      "+-------+---------+-----------------+---------+------------------+\n",
      "|summary|   Region|          Streams|YearMonth|              Year|\n",
      "+-------+---------+-----------------+---------+------------------+\n",
      "|  count| 20318183|         20318183| 20318183|          20318183|\n",
      "|   mean|     null|55266.54339716303|     null|2019.1431335174016|\n",
      "| stddev|     null|209602.0198801989|     null|1.3881963686867085|\n",
      "|    min|Argentina|             1001|  2017-01|              2017|\n",
      "|    25%|     null|             3546|     null|            2018.0|\n",
      "|    50%|     null|             9565|     null|            2019.0|\n",
      "|    75%|     null|            35407|     null|            2020.0|\n",
      "|    max|  Vietnam|         19749704|  2021-12|              2021|\n",
      "+-------+---------+-----------------+---------+------------------+\n",
      "\n"
     ]
    },
    {
     "name": "stderr",
     "output_type": "stream",
     "text": [
      "\r",
      "                                                                                \r"
     ]
    }
   ],
   "source": [
    "data.summary().show()"
   ]
  },
  {
   "cell_type": "markdown",
   "id": "868dd874",
   "metadata": {},
   "source": [
    "We now have a total of around 20 million rows left. \n",
    "\n",
    "### Group data by Month and Region\n",
    "\n",
    "Group by month and region to get the total streams per month and region. "
   ]
  },
  {
   "cell_type": "code",
   "execution_count": 54,
   "id": "b5983db1",
   "metadata": {},
   "outputs": [],
   "source": [
    "# Group by YearMonth and Region\n",
    "yearMonth = data.groupBy(['Year','YearMonth', 'Region']) \\\n",
    "                .sum() \\\n",
    "                .withColumnRenamed(\"sum(Streams)\", \"StreamsPerMonth\")\n",
    "\n",
    "# Order by YearMonth and Region\n",
    "yearMonth = yearMonth.orderBy(['YearMonth', 'Region'], ascending=[1, 1])"
   ]
  },
  {
   "cell_type": "markdown",
   "id": "f1b72068",
   "metadata": {},
   "source": [
    "Confirm that the data looks nice and tidy. "
   ]
  },
  {
   "cell_type": "code",
   "execution_count": 55,
   "id": "e5e9556e",
   "metadata": {},
   "outputs": [
    {
     "name": "stderr",
     "output_type": "stream",
     "text": [
      "[Stage 146:==================================================>    (24 + 2) / 26]\r"
     ]
    },
    {
     "name": "stdout",
     "output_type": "stream",
     "text": [
      "+----+---------+---------+---------------+\n",
      "|Year|YearMonth|   Region|StreamsPerMonth|\n",
      "+----+---------+---------+---------------+\n",
      "|2017|  2017-01|Argentina|      200416122|\n",
      "|2017|  2017-01|Australia|      226426932|\n",
      "|2017|  2017-01|  Austria|       24184172|\n",
      "|2017|  2017-01|  Belgium|       37374447|\n",
      "|2017|  2017-01|  Bolivia|        5514322|\n",
      "|2017|  2017-01|   Brazil|      453286941|\n",
      "|2017|  2017-01| Bulgaria|         589970|\n",
      "|2017|  2017-01|   Canada|      216194987|\n",
      "|2017|  2017-01|    Chile|      145855039|\n",
      "|2017|  2017-01| Colombia|       60363348|\n",
      "+----+---------+---------+---------------+\n",
      "only showing top 10 rows\n",
      "\n"
     ]
    },
    {
     "name": "stderr",
     "output_type": "stream",
     "text": [
      "\r",
      "[Stage 146:====================================================>  (25 + 1) / 26]\r",
      "\r",
      "                                                                                \r"
     ]
    }
   ],
   "source": [
    "yearMonth.show(10)"
   ]
  },
  {
   "cell_type": "markdown",
   "id": "fa64d0c3",
   "metadata": {},
   "source": [
    "### Group by Year and Region\n",
    "\n",
    "\n",
    "Group by year and region to get the total streams by year and region. "
   ]
  },
  {
   "cell_type": "code",
   "execution_count": 62,
   "id": "027b9996",
   "metadata": {},
   "outputs": [],
   "source": [
    "# Group by Year and Region\n",
    "year_totals = data.groupBy(['Year', 'Region']) \\\n",
    "                  .sum() \\\n",
    "                  .withColumnRenamed(\"sum(Streams)\", \"StreamsPerYear\")\n",
    "\n",
    "# Order by Year and Region\n",
    "year_totals = year_totals.orderBy(['Year', 'Region'], ascending=[1, 1])"
   ]
  },
  {
   "cell_type": "markdown",
   "id": "0069d5cb",
   "metadata": {},
   "source": [
    "### Join above dataframes to get one complete dataset\n",
    "\n",
    "Join the two dataframes and select the columns we want to keep; All columns from the `yearMonth` dataframe and the `StreamsPerYear` column from `year_totals`."
   ]
  },
  {
   "cell_type": "code",
   "execution_count": 59,
   "id": "7f11584e",
   "metadata": {},
   "outputs": [
    {
     "name": "stderr",
     "output_type": "stream",
     "text": [
      "[Stage 173:==================================================>    (24 + 2) / 26]\r"
     ]
    },
    {
     "name": "stdout",
     "output_type": "stream",
     "text": [
      "+----+---------+---------+---------------+--------------+\n",
      "|Year|YearMonth|   Region|StreamsPerMonth|StreamsPerYear|\n",
      "+----+---------+---------+---------------+--------------+\n",
      "|2017|  2017-01|Argentina|      200416122|    2687519093|\n",
      "|2017|  2017-02|Argentina|      193960016|    2687519093|\n",
      "|2017|  2017-03|Argentina|      208207967|    2687519093|\n",
      "|2017|  2017-08|Argentina|      233804765|    2687519093|\n",
      "|2017|  2017-04|Argentina|      200942961|    2687519093|\n",
      "|2017|  2017-05|Argentina|      201178865|    2687519093|\n",
      "|2017|  2017-06|Argentina|      194446971|    2687519093|\n",
      "|2017|  2017-07|Argentina|      221081939|    2687519093|\n",
      "|2017|  2017-10|Argentina|      251138429|    2687519093|\n",
      "|2017|  2017-09|Argentina|      238467300|    2687519093|\n",
      "+----+---------+---------+---------------+--------------+\n",
      "only showing top 10 rows\n",
      "\n"
     ]
    },
    {
     "name": "stderr",
     "output_type": "stream",
     "text": [
      "\r",
      "                                                                                \r"
     ]
    }
   ],
   "source": [
    "# Join the two dataframes and select columns to keep\n",
    "final = yearMonth.join(year_totals,\n",
    "                       (yearMonth.Year == year_totals.Year) &\n",
    "                       (yearMonth.Region == year_totals.Region)) \\\n",
    "                 .select([yearMonth.Year, \n",
    "                          yearMonth.YearMonth,\n",
    "                          yearMonth.Region,\n",
    "                          yearMonth.StreamsPerMonth,\n",
    "                          year_totals.StreamsPerYear])\n",
    "\n",
    "final.show(10)"
   ]
  },
  {
   "cell_type": "code",
   "execution_count": 60,
   "id": "915e5c99",
   "metadata": {},
   "outputs": [
    {
     "name": "stderr",
     "output_type": "stream",
     "text": [
      "[Stage 181:==================================================>    (24 + 2) / 26]\r"
     ]
    },
    {
     "name": "stdout",
     "output_type": "stream",
     "text": [
      "+-------+------------------+---------+---------+-------------------+--------------------+\n",
      "|summary|              Year|YearMonth|   Region|    StreamsPerMonth|      StreamsPerYear|\n",
      "+-------+------------------+---------+---------+-------------------+--------------------+\n",
      "|  count|              3694|     3694|     3694|               3694|                3694|\n",
      "|   mean|2019.0831077422847|     null|     null|3.039836877425555E8|3.6200024256819167E9|\n",
      "| stddev|1.3968249481792545|     null|     null|9.741649787345997E8|1.164874034211760...|\n",
      "|    min|              2017|  2017-01|Argentina|              75273|              279698|\n",
      "|    25%|            2018.0|     null|     null|           20107937|           243142896|\n",
      "|    50%|            2019.0|     null|     null|           60282461|           697970943|\n",
      "|    75%|            2020.0|     null|     null|          261201576|          3241421071|\n",
      "|    max|              2021|  2021-12|  Vietnam|         9476715327|         95741045288|\n",
      "+-------+------------------+---------+---------+-------------------+--------------------+\n",
      "\n"
     ]
    },
    {
     "name": "stderr",
     "output_type": "stream",
     "text": [
      "\r",
      "                                                                                \r"
     ]
    }
   ],
   "source": [
    "final.summary().show()"
   ]
  },
  {
   "cell_type": "markdown",
   "id": "f694677e",
   "metadata": {},
   "source": [
    "We're left with a total of 3694 rows from the original 26173514. Note that the `StreamPerYear` column displays the same value throughout all months of a year.\n",
    "\n",
    "\n",
    "### Store to `.csv` file. "
   ]
  },
  {
   "cell_type": "code",
   "execution_count": 61,
   "id": "ef05b731",
   "metadata": {},
   "outputs": [
    {
     "name": "stderr",
     "output_type": "stream",
     "text": [
      "                                                                                \r"
     ]
    }
   ],
   "source": [
    "# Save final data to .csv file\n",
    "location = \"cleaned_data/final_dataset\"\n",
    "final.write.csv(location, header=True)"
   ]
  }
 ],
 "metadata": {
  "kernelspec": {
   "display_name": "Python 3 (ipykernel)",
   "language": "python",
   "name": "python3"
  },
  "language_info": {
   "codemirror_mode": {
    "name": "ipython",
    "version": 3
   },
   "file_extension": ".py",
   "mimetype": "text/x-python",
   "name": "python",
   "nbconvert_exporter": "python",
   "pygments_lexer": "ipython3",
   "version": "3.8.12"
  }
 },
 "nbformat": 4,
 "nbformat_minor": 5
}
